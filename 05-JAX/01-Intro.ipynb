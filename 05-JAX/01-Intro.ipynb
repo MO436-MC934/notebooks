{
 "cells": [
  {
   "cell_type": "markdown",
   "id": "d19bbdee",
   "metadata": {},
   "source": [
    "# 5.1. Introduction to JAX\n",
    "\n",
    "> **Author**: Gustavo Leite / **Date**: March 2022.\n",
    "\n",
    "JAX (**J**ust **A**fter e**X**ecution) is, simply put, Numpy for accelerators. It is a Python library developed by Google Research which replicates the Numpy API but is capable of offloading numerical computation to other devices, like the GPU or TPU. On top of that, JAX can perform just-in-time compilation and optimization of pure functions for extra speed. Users also can compute the gradient (*i.e.* derivative) of Python functions automatically using auto-differentiation techniques. Working with JAX is almost as easy as working with Numpy. Its primary focus is on machine learning reserch, but you may benefit from JIT and auto-diff in many different contexts.\n",
    "\n",
    "The three main characteristis of the JAX library are listed below. We will talk about each of those (and more) in this lecture.\n",
    "\n",
    "1. Accelerated Numpy;\n",
    "2. Just-in-time compilation and optimization;\n",
    "3. Auto-differentiation of Python functions.\n",
    "\n",
    "> **Note**: Before proceeding further, be sure to follow the installation instructions in the [README](./README.md) in order to setup your environment correctly.\n",
    "\n",
    "Let's begin with importing Numpy and Matplotlib and setting up our environment. Don't worry about the cell below, it is just support code. We will import jax features as we need them."
   ]
  },
  {
   "cell_type": "code",
   "execution_count": 1,
   "id": "7415fd2a",
   "metadata": {},
   "outputs": [],
   "source": [
    "import numpy as np\n",
    "import scipy as sp\n",
    "import matplotlib.pyplot as plt\n",
    "import matplotlib as mpl\n",
    "\n",
    "# Change default matplotlib params\n",
    "mpl.rcParams['axes.spines.right'] = False\n",
    "mpl.rcParams['axes.spines.top'] = False\n",
    "\n",
    "# Utilitary function to plot speedup graph\n",
    "import util.speedup as speedup\n",
    "\n",
    "# Dictionary to hold the execution times\n",
    "t = {}"
   ]
  },
  {
   "cell_type": "markdown",
   "id": "6100d4b4",
   "metadata": {},
   "source": [
    "<hr />\n",
    "\n",
    "## Motivation\n",
    "\n",
    "Most of us is familiar with the [Numpy](https://numpy.org/) library. It is a Python library for numerical computation that runs on top of the highly optimized [BLAS](https://www.openblas.net/) (Basic Linear Algebra Subprograms) library. In short, Numpy is a flexible API for invoking BLAS kernels. The advantage of this approach is that it frees the programmer from having to write and optimize their own linear algebra kernels and focus on the problem itself. Consider the well-known sigmoid function that was heavily used in ML:\n",
    "\n",
    "$$\n",
    "    \\sigma(x) = \\frac{1}{1 + e^{-x}}\n",
    "$$\n",
    "\n",
    "If we were to write a `sigmoid` activation function using Numpy, we would proceed as follows:"
   ]
  },
  {
   "cell_type": "code",
   "execution_count": 2,
   "id": "c5679cd1",
   "metadata": {},
   "outputs": [],
   "source": [
    "def sigmoid_np(x):\n",
    "    \"\"\"Sigmoid activation function using Numpy.\"\"\"\n",
    "    return 1 / (1 + np.exp(-x))"
   ]
  },
  {
   "cell_type": "code",
   "execution_count": 3,
   "id": "fd65751b",
   "metadata": {},
   "outputs": [],
   "source": [
    "# Create an array with 100k elements from -10 to 10\n",
    "x = np.linspace(-10.0, 10.0, 100_000)"
   ]
  },
  {
   "cell_type": "code",
   "execution_count": 4,
   "id": "5c054053",
   "metadata": {},
   "outputs": [
    {
     "name": "stdout",
     "output_type": "stream",
     "text": [
      "887 µs ± 76.8 µs per loop (mean ± std. dev. of 10 runs, 1,000 loops each)\n"
     ]
    }
   ],
   "source": [
    "t['numpy'] = %timeit -o -r 10 sigmoid_np(x)"
   ]
  },
  {
   "cell_type": "markdown",
   "id": "6cf551cf",
   "metadata": {},
   "source": [
    "To test this, we generated an array with 100k evenly spaced floating point numbers ranging from -10.0 to 10.0. We then invoked our `sigmoid` function with the entire array and measure the time. It is important to note that each operation in the sigmoid function is being applied to each element of the array, this is called *vectorization*."
   ]
  },
  {
   "cell_type": "code",
   "execution_count": 5,
   "id": "ea079091",
   "metadata": {},
   "outputs": [
    {
     "data": {
      "text/plain": [
       "[<matplotlib.lines.Line2D at 0x7f0b567f7760>]"
      ]
     },
     "execution_count": 5,
     "metadata": {},
     "output_type": "execute_result"
    },
    {
     "data": {
      "image/png": "[encoded data removed]",
      "text/plain": [
       "<Figure size 432x288 with 1 Axes>"
      ]
     },
     "metadata": {
      "needs_background": "light"
     },
     "output_type": "display_data"
    }
   ],
   "source": [
    "plt.plot(x, sigmoid_np(x))"
   ]
  },
  {
   "cell_type": "markdown",
   "id": "7fe2d08e",
   "metadata": {},
   "source": [
    "However, there are some (not at all obvious) performance issues with this `sigmoid`.\n",
    "\n",
    "#### Problem 1\n",
    "\n",
    "Is it running on the CPU when it could be running much faster on a GPU. In fact, most, if not all, scientific and machine learning worloads out there run on an accelerator instead of the CPU. Even though the BLAS library is highly optimized, it simply cannot compete with highly parallel processors.\n",
    "\n",
    "#### Problem 2\n",
    "\n",
    "Each operation in our function (negation, exponentiation, sum, division, etc) takes the input arrays, allocates a new intermediate array to hold the result, and then actually execute the operation. In other words, the operations are done out-of-place rather than in-place. The overhead of doing a lot of intermediate allocations severely impacts performance in a negative way. Notice how this is not really obvious by glancing the code above! The programmer would have to understand the implementation details to spot this problem.\n",
    "\n",
    "#### Problem 3\n",
    "\n",
    "Even though the BLAS kernels are already compiled and optimized, they cannot be optimized *together*. When Python interprets the sigmoid expression, it calls each Numpy function sequentially, retrieving the intermediate results. Perhaps if there existed a \"global\" view of all the operations together, they could be further optimized, technique called \"interprocedural optimization\" in compiler theory.\n",
    "\n",
    "<hr />\n",
    "\n",
    "It is in this context that JAX comes to our rescue. The library is capable of solving all these problems for us while requiring minimal code changes. Take a look at the following example."
   ]
  },
  {
   "cell_type": "code",
   "execution_count": 6,
   "id": "d9b7feac",
   "metadata": {},
   "outputs": [],
   "source": [
    "import jax.numpy as jnp # By convention we alias this namespace to `jnp`."
   ]
  },
  {
   "cell_type": "code",
   "execution_count": 7,
   "id": "05f8f133",
   "metadata": {},
   "outputs": [],
   "source": [
    "def sigmoid_jax(x):\n",
    "    \"\"\"Sigmoid activation function using JAX Numpy API.\"\"\"\n",
    "    return 1 / (1 + jnp.exp(-x))\n",
    "#                   ======= (A) Note the use of `jnp` instead of `np`!"
   ]
  },
  {
   "cell_type": "code",
   "execution_count": 8,
   "id": "eb8469b4",
   "metadata": {},
   "outputs": [
    {
     "name": "stdout",
     "output_type": "stream",
     "text": [
      "436 µs ± 182 µs per loop (mean ± std. dev. of 10 runs, 1 loop each)\n"
     ]
    }
   ],
   "source": [
    "t['jax'] = %timeit -o -r 10  sigmoid_jax(x).block_until_ready()\n",
    "#                                           =================\n",
    "#                                     (B) This did not exist before!"
   ]
  },
  {
   "cell_type": "markdown",
   "id": "da18d702",
   "metadata": {},
   "source": [
    "We can measure a speedup right off the bat! Why is that so? It is because JAX is running this code on an NVIDIA GPU (GTX 1060) instead of the x86 processor. If you do not have an NVIDIA GPU available, you may not see a difference in time here.\n",
    "\n",
    "But there are some code changes:\n",
    "\n",
    "- **(A)** We are using the API provided by JAX instead of regular Numpy. It can automatically invoke the appropriate kernel depending on the backend we are using (CPU, GPU, or TPU).\n",
    "\n",
    "- **(B)** Operations in JAX are asynchronous, therefore we need to insert synchronization calls in order to make the host wait for the results to be ready on the device."
   ]
  },
  {
   "cell_type": "code",
   "execution_count": 9,
   "id": "fa5f0afb",
   "metadata": {},
   "outputs": [
    {
     "data": {
      "text/plain": [
       "[<matplotlib.lines.Line2D at 0x7f0b2a998220>]"
      ]
     },
     "execution_count": 9,
     "metadata": {},
     "output_type": "execute_result"
    },
    {
     "data": {
      "image/png": "[encoded data removed]",
      "text/plain": [
       "<Figure size 432x288 with 1 Axes>"
      ]
     },
     "metadata": {
      "needs_background": "light"
     },
     "output_type": "display_data"
    }
   ],
   "source": [
    "plt.plot(x, sigmoid_jax(x))"
   ]
  },
  {
   "cell_type": "markdown",
   "id": "b551b489",
   "metadata": {},
   "source": [
    "The graph looks the same, that's great news.\n",
    "\n",
    "Calculating the speedup we get:"
   ]
  },
  {
   "cell_type": "code",
   "execution_count": 10,
   "id": "7cba906b",
   "metadata": {},
   "outputs": [
    {
     "data": {
      "image/png": "[encoded data removed]",
      "text/plain": [
       "<Figure size 432x288 with 1 Axes>"
      ]
     },
     "metadata": {
      "needs_background": "light"
     },
     "output_type": "display_data"
    }
   ],
   "source": [
    "speedup.plot(t)"
   ]
  },
  {
   "cell_type": "markdown",
   "id": "c8c63086",
   "metadata": {},
   "source": [
    "We can observe close to 2x speedup. Not bad for some trivial code changes! But, can we do better?\n",
    "\n",
    "When we created the array `x`, Numpy obviously allocated all the data in host (main) memory. But since JAX is running on the GPU, it must first copy this data over to GPU memory before actually invoking the function. To eliminate the need for copying this data every time, we can use the function `device_put`."
   ]
  },
  {
   "cell_type": "code",
   "execution_count": 11,
   "id": "e5ce6942",
   "metadata": {},
   "outputs": [
    {
     "name": "stdout",
     "output_type": "stream",
     "text": [
      "210 µs ± 10.4 µs per loop (mean ± std. dev. of 10 runs, 10,000 loops each)\n"
     ]
    }
   ],
   "source": [
    "from jax import device_put\n",
    "\n",
    "# Create a copy of `x` in the accelerator memory\n",
    "dev_x = device_put(x)\n",
    "\n",
    "# Call `sigmoid_jax` using the device array\n",
    "t['jax_nocopy'] = %timeit -o -r 10  sigmoid_jax(dev_x).block_until_ready()\n",
    "#                                               ====="
   ]
  },
  {
   "cell_type": "markdown",
   "id": "7c577285",
   "metadata": {},
   "source": [
    "We can see that the type of our new array is `DeviceArray` as opposed to Numpy's `ndarray`."
   ]
  },
  {
   "cell_type": "code",
   "execution_count": 12,
   "id": "a1d249cc",
   "metadata": {},
   "outputs": [
    {
     "name": "stdout",
     "output_type": "stream",
     "text": [
      "type(x)     = <class 'numpy.ndarray'>\n",
      "type(dev_x) = <class 'jaxlib.xla_extension.DeviceArray'>\n"
     ]
    }
   ],
   "source": [
    "print(f\"type(x)     = {type(x)}\")\n",
    "print(f\"type(dev_x) = {type(dev_x)}\")"
   ]
  },
  {
   "cell_type": "markdown",
   "id": "b62f82cf",
   "metadata": {},
   "source": [
    "Again, let us see how the speedup is going."
   ]
  },
  {
   "cell_type": "code",
   "execution_count": 13,
   "id": "6d900060",
   "metadata": {},
   "outputs": [
    {
     "data": {
      "image/png": "[encoded data removed]",
      "text/plain": [
       "<Figure size 432x288 with 1 Axes>"
      ]
     },
     "metadata": {
      "needs_background": "light"
     },
     "output_type": "display_data"
    }
   ],
   "source": [
    "speedup.plot(t)"
   ]
  },
  {
   "cell_type": "markdown",
   "id": "24f126f9",
   "metadata": {},
   "source": [
    "I am getting close to 5x speedup! How cool is that, five times better with little effort! To conclude this first section, I hope I have convinced you the power JAX brings to the table due to its simplicity, allowing useres with little parallel computing experience to harness the power of accelerators. We move our attention to JIT compiling in the next section.\n",
    "\n",
    "As a bonus tip, we can use the device array normally as any other array in Python. The data is transferred to the host on-demand when we try to read it."
   ]
  },
  {
   "cell_type": "code",
   "execution_count": 14,
   "id": "11052872",
   "metadata": {},
   "outputs": [
    {
     "data": {
      "text/plain": [
       "[<matplotlib.lines.Line2D at 0x7f0b184221d0>]"
      ]
     },
     "execution_count": 14,
     "metadata": {},
     "output_type": "execute_result"
    },
    {
     "data": {
      "image/png": "[encoded data removed]",
      "text/plain": [
       "<Figure size 432x288 with 1 Axes>"
      ]
     },
     "metadata": {
      "needs_background": "light"
     },
     "output_type": "display_data"
    }
   ],
   "source": [
    "plt.plot(dev_x, sigmoid_jax(dev_x))"
   ]
  },
  {
   "cell_type": "markdown",
   "id": "205af74a",
   "metadata": {},
   "source": [
    "<hr />\n",
    "\n",
    "## JIT\n",
    "\n",
    "As we all know well, Python is an interpreted language. While interpreted languages are not known for their high performance, these lantiages are usually much easier to work with because of the flexibility dynamic typing provides. But what do we do when we want to have both flexibility and performance? First, not every line of code is created equal: usually a small part of the program (*i.e.* some tight loop nest) takes up the majority of runtime. This is specially true in machine learning and scientific computing.\n",
    "\n",
    "In this sense, we could have the majority of our code written in a high-level language and only implement the *heavy* part in a compiled language for extra speed. Even better than this, we could write the heavy loop in Python too but find out some way of compiling only this function during runtime, and invoke it immediately. This  is called just-in-time compiling and is exactly what JAX does!\n",
    "\n",
    "The library provides a series of *function transformations* where we feed a function we wrote and the library returns a new function. What this new function does depends on what the transformation is all about! We first import the [`jit`](https://jax.readthedocs.io/en/latest/_autosummary/jax.jit.html) transformation."
   ]
  },
  {
   "cell_type": "code",
   "execution_count": 15,
   "id": "9cb599db",
   "metadata": {},
   "outputs": [],
   "source": [
    "from jax import jit"
   ]
  },
  {
   "cell_type": "markdown",
   "id": "8a89fb3d",
   "metadata": {},
   "source": [
    "Next, we transform our sigmoid function."
   ]
  },
  {
   "cell_type": "code",
   "execution_count": 16,
   "id": "2fbbc9a9",
   "metadata": {},
   "outputs": [],
   "source": [
    "sigmoid_jax_jit = jit(sigmoid_jax)\n",
    "#                 ==="
   ]
  },
  {
   "cell_type": "markdown",
   "id": "30124802",
   "metadata": {},
   "source": [
    "The symbol `sigmoid_jax_jit` is now callable."
   ]
  },
  {
   "cell_type": "code",
   "execution_count": 17,
   "id": "de5df6f2",
   "metadata": {},
   "outputs": [
    {
     "name": "stdout",
     "output_type": "stream",
     "text": [
      "39 µs ± 4.65 µs per loop (mean ± std. dev. of 10 runs, 10,000 loops each)\n"
     ]
    }
   ],
   "source": [
    "t['jax_jit'] = %timeit -o -r 10  sigmoid_jax_jit(dev_x).block_until_ready()\n",
    "#                                ==============="
   ]
  },
  {
   "cell_type": "markdown",
   "id": "b8fb589f",
   "metadata": {},
   "source": [
    "JIT compiling a function is as simple as wrapping it inside `jit`. In the example above `sigmoid_jax_jit` is a new function and can be called exactly the same way as before JIT'ing. Alternatively, instead of calling the `jit` function, we could use it as a decorator to our own functions."
   ]
  },
  {
   "cell_type": "code",
   "execution_count": 18,
   "id": "ebfbfcc0",
   "metadata": {},
   "outputs": [],
   "source": [
    "@jit # Decorators look much cleaner!\n",
    "def sigmoid_jax_jit(x):\n",
    "    \"\"\"Jitted sigmoid function using decorator syntax.\"\"\"\n",
    "    return 1 / (1 + jnp.exp(-x))"
   ]
  },
  {
   "cell_type": "markdown",
   "id": "6711eb6e",
   "metadata": {},
   "source": [
    "And now for  the speedup:"
   ]
  },
  {
   "cell_type": "code",
   "execution_count": 19,
   "id": "8729e8ee",
   "metadata": {},
   "outputs": [
    {
     "data": {
      "image/png": "[encoded data removed]",
      "text/plain": [
       "<Figure size 432x288 with 1 Axes>"
      ]
     },
     "metadata": {
      "needs_background": "light"
     },
     "output_type": "display_data"
    }
   ],
   "source": [
    "speedup.plot(t)"
   ]
  },
  {
   "cell_type": "markdown",
   "id": "58e27b99",
   "metadata": {},
   "source": [
    "More than 20x, now that's **fast**. In order to compile and optimize functions, JAX uses the XLA (Accelerated Linear Algebra) compiler, also developed by Google, that powers the TensorFlow framework. In order to achieve this, JAX has a tracing mechanism that creates an abstract representation of your function, hands it to XLA which then compiles and optimize it. The result is a very fast code with almost native performance.\n",
    "\n",
    "Just to be sure, let's check if the results are close."
   ]
  },
  {
   "cell_type": "code",
   "execution_count": 20,
   "id": "a6525bcf",
   "metadata": {},
   "outputs": [],
   "source": [
    "assert np.allclose(sigmoid_np(x), sigmoid_jax_jit(x))"
   ]
  },
  {
   "cell_type": "markdown",
   "id": "0ae00e65",
   "metadata": {},
   "source": [
    "Cool.\n",
    "\n",
    "It is also important to mention that the compiled function is cached, meaning that the first invocation should take a longer time because it needs to trace, compiler, yada yada. Subsequent invocations just straight up invoke the binary code. Paying the price of compile once is usually worth it because since this is hot code, we expect to call this function many many times. Pay attention to the following snippet."
   ]
  },
  {
   "cell_type": "code",
   "execution_count": 21,
   "id": "db3cc975",
   "metadata": {
    "scrolled": false
   },
   "outputs": [
    {
     "name": "stdout",
     "output_type": "stream",
     "text": [
      "=== FIRST  ==============================\n",
      "Inside function: x = Traced<ShapedArray(float32[], weak_type=True)>with<DynamicJaxprTrace(level=0/1)>\n",
      "2.0\n",
      "\n",
      "=== SECOND ==============================\n",
      "2.0\n"
     ]
    }
   ],
   "source": [
    "@jit\n",
    "def f(x):\n",
    "    print(f\"Inside function: x = {x}\")\n",
    "    return x + 1.0\n",
    "\n",
    "print(\"=== FIRST  \" + \"=\" * 30)\n",
    "print(f(1.0))\n",
    "\n",
    "print()\n",
    "print(\"=== SECOND \" + \"=\" * 30)\n",
    "print(f(1.0))"
   ]
  },
  {
   "cell_type": "markdown",
   "id": "5f4ab465",
   "metadata": {},
   "source": [
    "There are a couple of things to unpack here. Notice in the first invocation, we call `f` with `x = 1` but the print actually shows `Traced<ShapedArray(float32[], weak_type=True)>with<DynamicJaxprTrace(level=0/1)>` instead of the value. Also note in the second invocation that nothing is printed inside the function at all. What is going on?\n",
    "\n",
    "Remember when we talked about JAX *tracing* the function? That is exactly what is happening in the first invocation. Tracing and compilation happens only once, then on the second invocation the cached binary is used. The tracing mechanism will be studied in the next lecture, so don't worry about that scary string for now.\n",
    "\n",
    "But there is still something unneasing... why wasn't the `print` compiled into the binary, then? That is because JAX expect **pure** functions: a function  that given the same inputs, always produce the same outputs. In other words, the function must not have side-effects, examples include: interacting with global variables, reading and writing to files, etc. Print statements are just examples of writing to files (`stdout` in this case), and are thus considered side-effects. We are going to explore this and other caveats in the following sections."
   ]
  },
  {
   "cell_type": "markdown",
   "id": "73133136",
   "metadata": {},
   "source": [
    "### Caveat 1: Pure Functions\n",
    "\n",
    "If it is so simply as to add a `@jit` on top of functions, why don't we simply do it for all functions in our program and call it a day? Not so fast. If your function is not pure, weird behavior can occur. Consider the `impure_f` function below that reads from a global variable."
   ]
  },
  {
   "cell_type": "code",
   "execution_count": 22,
   "id": "9ae7f1f2",
   "metadata": {},
   "outputs": [
    {
     "name": "stdout",
     "output_type": "stream",
     "text": [
      "(A) 11\n",
      "(B) 11\n"
     ]
    }
   ],
   "source": [
    "g = 10\n",
    "\n",
    "@jit\n",
    "def impure_f(x):\n",
    "    \"\"\"Impure function that reads from global variable.\"\"\"\n",
    "    return x + g\n",
    "\n",
    "# Call function while `g` is still equals 10\n",
    "print(\"(A)\", impure_f(1))\n",
    "\n",
    "# Mutate the global state!\n",
    "g = 20\n",
    "\n",
    "# Call function again after mutating `g`\n",
    "print(\"(B)\", impure_f(1))"
   ]
  },
  {
   "cell_type": "markdown",
   "id": "a240a9cc",
   "metadata": {},
   "source": [
    "Common sense would tell us that the result of the second invocation should be 21 and not 11. However, when JAX compiled this function, it treated `g` as a constant and propagated its value directly into the binary. Global variables are considered side-effects: given the same inputs the function may return different results depending on the value of the global variable. In order to make this function pure, `g` must be passed as an argument."
   ]
  },
  {
   "cell_type": "code",
   "execution_count": 23,
   "id": "8c327ab4",
   "metadata": {},
   "outputs": [
    {
     "name": "stdout",
     "output_type": "stream",
     "text": [
      "(C) 11\n",
      "(D) 21\n"
     ]
    }
   ],
   "source": [
    "g = 10\n",
    "\n",
    "@jit\n",
    "def pure_f(x, g):\n",
    "    \"\"\"Function without side-effects, its result is\n",
    "    computed solely from the inputs.\"\"\"\n",
    "    return x + g\n",
    "\n",
    "# Call function but explicitly passing `g` this time\n",
    "print(\"(C)\", pure_f(1, g))\n",
    "\n",
    "# Mutate global state!\n",
    "g = 20\n",
    "\n",
    "# Call function again, the results should be correct now\n",
    "print(\"(D)\", pure_f(1, g))"
   ]
  },
  {
   "cell_type": "markdown",
   "id": "4697a023",
   "metadata": {},
   "source": [
    "### Caveat 2: Tensor Sizes\n",
    "\n",
    "Earlier we saw how JAX caches the compiled binary for subsequent invocations. However, it trigger a recompilation if the shapes of the input tensors change. This is not a bug but a design feature: knowing tensor sizes during compile time enables more optimizations to be carried out. Allow me to demonstrate."
   ]
  },
  {
   "cell_type": "code",
   "execution_count": 24,
   "id": "2d0bff3f",
   "metadata": {},
   "outputs": [
    {
     "name": "stdout",
     "output_type": "stream",
     "text": [
      "Compiling! x.shape = ()\n",
      "A: 3.0\n",
      "B: 5.0\n",
      "Compiling! x.shape = (2,)\n",
      "C: [3. 5.]\n",
      "D: 7.0\n"
     ]
    }
   ],
   "source": [
    "@jit\n",
    "def f(x):\n",
    "    print(f\"Compiling! x.shape = {x.shape}\")\n",
    "    return 2.0 * x + 1.0\n",
    "\n",
    "# First invocation, compilation will happen unconditionally.\n",
    "print(\"A:\", f(1.0))\n",
    "# Tensors are the same shape, reuse binary from cache.\n",
    "print(\"B:\", f(2.0))\n",
    "# Tensors are now rank 1, trigger recompilation.\n",
    "print(\"C:\", f(jnp.array([1.0, 2.0])))\n",
    "# The first version is still in cache!\n",
    "print(\"D:\", f(3.0))"
   ]
  },
  {
   "cell_type": "markdown",
   "id": "bcb70f4b",
   "metadata": {},
   "source": [
    "### Caveat 3: Control Flow\n",
    "\n",
    "JIT compiling functions with control flow that depend on the value of one of the inputs is forbidden. When this happens, JAX has no way to trace the function properly. At the tracing stage, JAX does not know the values of inputs, only their shapes. An example should clarify this."
   ]
  },
  {
   "cell_type": "code",
   "execution_count": 25,
   "id": "f0e6072a",
   "metadata": {},
   "outputs": [
    {
     "name": "stdout",
     "output_type": "stream",
     "text": [
      "24\n"
     ]
    }
   ],
   "source": [
    "@jit\n",
    "def f(x):\n",
    "    \"\"\"Function with allowed control flow.\"\"\"\n",
    "    # This for statement is control flow that does not depend on `x`,\n",
    "    # therefore it is allowed.\n",
    "    for i in range(3):\n",
    "        x = 2 * x\n",
    "    return x\n",
    "\n",
    "print(f(3))"
   ]
  },
  {
   "cell_type": "code",
   "execution_count": 26,
   "id": "947b8835",
   "metadata": {},
   "outputs": [
    {
     "name": "stdout",
     "output_type": "stream",
     "text": [
      "Error: Abstract tracer value encountered where concrete value is expected: Traced<ShapedArray(bool[], weak_type=True)>with<DynamicJaxprTrace(level=0/1)>\n",
      "The problem arose with the `bool` function. \n",
      "While tracing the function g at /tmp/ipykernel_6537/2089119459.py:1 for jit, this concrete value was not available in Python because it depends on the value of the argument 'x'.\n",
      "\n",
      "See https://jax.readthedocs.io/en/latest/errors.html#jax.errors.ConcretizationTypeError\n"
     ]
    }
   ],
   "source": [
    "@jit\n",
    "def g(x):\n",
    "    \"\"\"Function with control flow that depends on values.\"\"\"\n",
    "    # Function cannot be traced because we don't know the value\n",
    "    # of `x` when tracing.\n",
    "    if x > 0:\n",
    "        return 2 * x ** 2 - 1\n",
    "    else:\n",
    "        return -x\n",
    "   \n",
    "try:\n",
    "    print(g(1))\n",
    "except Exception as e:\n",
    "    print(f\"Error: {e}\")"
   ]
  },
  {
   "cell_type": "markdown",
   "id": "f0d0ae5d",
   "metadata": {},
   "source": [
    "You must be asking yourself \"how am I supposed to write my code without control flow?\". The answer for that is to use JAX structured control flow functions, like shown [here](https://jax.readthedocs.io/en/latest/notebooks/Common_Gotchas_in_JAX.html#structured-control-flow-primitives)."
   ]
  },
  {
   "cell_type": "markdown",
   "id": "c6ccdacc",
   "metadata": {},
   "source": [
    "### Caveat 4: Immutability\n",
    "\n",
    "Contrary to Numpy arrays, JAX arrays are immutable. The following code is allowed in Numpy:"
   ]
  },
  {
   "cell_type": "code",
   "execution_count": 27,
   "id": "22860d7f",
   "metadata": {},
   "outputs": [
    {
     "name": "stdout",
     "output_type": "stream",
     "text": [
      "Original Numpy array:\n",
      "[[0. 0. 0.]\n",
      " [0. 0. 0.]\n",
      " [0. 0. 0.]]\n",
      "\n",
      "Numpy array after update:\n",
      "[[0. 0. 0.]\n",
      " [1. 1. 1.]\n",
      " [0. 0. 0.]]\n"
     ]
    }
   ],
   "source": [
    "np_array = np.zeros((3, 3))\n",
    "\n",
    "print(\"Original Numpy array:\")\n",
    "print(np_array)\n",
    "\n",
    "np_array[1, :] = 1.0\n",
    "print(\"\\nNumpy array after update:\")\n",
    "print(np_array)"
   ]
  },
  {
   "cell_type": "markdown",
   "id": "12be8ce8",
   "metadata": {},
   "source": [
    "But something similar in JAX throws an exception."
   ]
  },
  {
   "cell_type": "code",
   "execution_count": 28,
   "id": "1a1140f6",
   "metadata": {},
   "outputs": [
    {
     "name": "stdout",
     "output_type": "stream",
     "text": [
      "Original JAX array:\n",
      "[[0. 0. 0.]\n",
      " [0. 0. 0.]\n",
      " [0. 0. 0.]]\n",
      "\n",
      "Error: '<class 'jaxlib.xla_extension.DeviceArray'>' object does not support item assignment. JAX arrays are immutable. Instead of ``x[idx] = y``, use ``x = x.at[idx].set(y)`` or another .at[] method: https://jax.readthedocs.io/en/latest/_autosummary/jax.numpy.ndarray.at.html\n"
     ]
    }
   ],
   "source": [
    "jax_array = jnp.zeros((3, 3))\n",
    "\n",
    "print(\"Original JAX array:\")\n",
    "print(jax_array)\n",
    "\n",
    "try:\n",
    "    jax_array[1, :] = 1.0\n",
    "    print(\"\\nJAX array after update:\")\n",
    "    print(jax_array)\n",
    "except TypeError as error:\n",
    "    print(f\"\\nError: {error}\")"
   ]
  },
  {
   "cell_type": "markdown",
   "id": "2ef75b03",
   "metadata": {},
   "source": [
    "We can use the suggestion in the error message and use the `.at[]` object."
   ]
  },
  {
   "cell_type": "code",
   "execution_count": 29,
   "id": "0a49891d",
   "metadata": {},
   "outputs": [
    {
     "name": "stdout",
     "output_type": "stream",
     "text": [
      "JAX array after update:\n",
      "[[0. 0. 0.]\n",
      " [1. 1. 1.]\n",
      " [0. 0. 0.]]\n",
      "\n",
      "Original array still intact:\n",
      "[[0. 0. 0.]\n",
      " [0. 0. 0.]\n",
      " [0. 0. 0.]]\n"
     ]
    }
   ],
   "source": [
    "# Functional-style array update\n",
    "updated_jax_array = jax_array.at[1, :].set(1.0)\n",
    "#                             ==       ===\n",
    "\n",
    "print(\"JAX array after update:\")\n",
    "print(updated_jax_array)\n",
    "\n",
    "print(\"\\nOriginal array still intact:\")\n",
    "print(jax_array)"
   ]
  },
  {
   "cell_type": "markdown",
   "id": "3b7ca3fa",
   "metadata": {},
   "source": [
    "However, be mindful that these operations are not in-place by default. In other words, using `.at[].set()` may incur in allocations and memory copies. In some cases, when the update is done inside a JITed function, the optimizer may eliminate redundant allocations/copies, but that is not guaranteed 100% of the cases.\n",
    "\n",
    "There are still other methods in the `.at[]` object beyond `.set()`, please refer to the documentation for a complete [list](https://jax.readthedocs.io/en/latest/_autosummary/jax.numpy.ndarray.at.html#jax.numpy.ndarray.at)."
   ]
  },
  {
   "cell_type": "markdown",
   "id": "c05364f6",
   "metadata": {},
   "source": [
    "### More Caveats?\n",
    "\n",
    "There are still other minor caveats to look out to. We restrict ourselves to the three most important ones in this notebook. Nevertheless, the JAX documentation has a nice page to document all [Common Gotchas in JAX](https://jax.readthedocs.io/en/latest/notebooks/Common_Gotchas_in_JAX.html). It is highly recommended you read this page before writing your entire codebase."
   ]
  },
  {
   "cell_type": "markdown",
   "id": "1d898eb2",
   "metadata": {},
   "source": [
    "<hr />\n",
    "\n",
    "## JAXPR\n",
    "\n",
    "JAXPRs are short for JAX Expressions, and they are useful to check how JAX is transforming our function under the hood. In order to obtain the JAXPR, we must use the transformation [`make_jaxpr`](https://jax.readthedocs.io/en/latest/_autosummary/jax.make_jaxpr.html)."
   ]
  },
  {
   "cell_type": "code",
   "execution_count": 30,
   "id": "ddfcb244",
   "metadata": {},
   "outputs": [],
   "source": [
    "from jax import make_jaxpr"
   ]
  },
  {
   "cell_type": "markdown",
   "id": "aa5235ad",
   "metadata": {},
   "source": [
    "We need to call the transformed function with real data to obtain the representation."
   ]
  },
  {
   "cell_type": "code",
   "execution_count": 31,
   "id": "36a51b32",
   "metadata": {},
   "outputs": [
    {
     "data": {
      "text/plain": [
       "{ lambda ; a:f32[]. let\n",
       "    b:f32[] = neg a\n",
       "    c:f32[] = exp b\n",
       "    d:f32[] = add c 1.0\n",
       "    e:f32[] = div 1.0 d\n",
       "  in (e,) }"
      ]
     },
     "execution_count": 31,
     "metadata": {},
     "output_type": "execute_result"
    }
   ],
   "source": [
    "make_jaxpr(sigmoid_jax)(1.0)"
   ]
  },
  {
   "cell_type": "markdown",
   "id": "02fb6a16",
   "metadata": {},
   "source": [
    "Here we can see all the \"instructions\" being applied to the input, one after the other. Also pay attention to the data type: each intermediate value is of type `f32[]`, meaning a single scalar value. Calling the same transformed function with an array of larger size produces a different result."
   ]
  },
  {
   "cell_type": "code",
   "execution_count": 32,
   "id": "068bffda",
   "metadata": {},
   "outputs": [
    {
     "data": {
      "text/plain": [
       "{ lambda ; a:f32[100000]. let\n",
       "    b:f32[100000] = neg a\n",
       "    c:f32[100000] = exp b\n",
       "    d:f32[100000] = add c 1.0\n",
       "    e:f32[100000] = div 1.0 d\n",
       "  in (e,) }"
      ]
     },
     "execution_count": 32,
     "metadata": {},
     "output_type": "execute_result"
    }
   ],
   "source": [
    "make_jaxpr(sigmoid_jax)(x)"
   ]
  },
  {
   "cell_type": "markdown",
   "id": "32131e07",
   "metadata": {},
   "source": [
    "Each variable is now of type `f32[100000]`, which is exactly the size of the array `x`. This is in line with our previous discussion of compiling a function assuming the shapes are static.\n",
    "\n",
    "It is also possible to write your own interpreters of JAXPR! This topic is beyond the scope of this class, but we refer the interested reader to this [notebook](https://jax.readthedocs.io/en/latest/notebooks/Writing_custom_interpreters_in_Jax.html)."
   ]
  },
  {
   "cell_type": "markdown",
   "id": "9a07eab4",
   "metadata": {},
   "source": [
    "<hr />\n",
    "\n",
    "## Batching\n",
    "\n",
    "JAX also provides transformations for applying functions in a batch of data. They are the [`vmap`](https://jax.readthedocs.io/en/latest/_autosummary/jax.vmap.html) transformation for vectorization and [`pmap`](https://jax.readthedocs.io/en/latest/_autosummary/jax.pmap.html) transformation for parallelization."
   ]
  },
  {
   "cell_type": "code",
   "execution_count": 33,
   "id": "5d612bdd",
   "metadata": {},
   "outputs": [],
   "source": [
    "from jax import vmap, pmap"
   ]
  },
  {
   "cell_type": "markdown",
   "id": "87886547",
   "metadata": {},
   "source": [
    "Vectorization consists of applying the same function to a batch of data in a SIMD fashion. This is going to become clear with an example."
   ]
  },
  {
   "cell_type": "code",
   "execution_count": 34,
   "id": "6cf6c3f5",
   "metadata": {},
   "outputs": [
    {
     "data": {
      "text/plain": [
       "array([[1., 1., 1.],\n",
       "       [1., 1., 1.],\n",
       "       [1., 1., 1.],\n",
       "       [1., 1., 1.],\n",
       "       [1., 1., 1.]])"
      ]
     },
     "execution_count": 34,
     "metadata": {},
     "output_type": "execute_result"
    }
   ],
   "source": [
    "# Create dummy data we can work with\n",
    "# - Array has 5 rows and 3 columns\n",
    "A = np.ones((5, 3))\n",
    "A"
   ]
  },
  {
   "cell_type": "markdown",
   "id": "45b9402f",
   "metadata": {},
   "source": [
    "We vectorize the `jnp.sum` function on the matrix `A`. Note that are many ways to apply a function to a matrix: apply the function by rows, apply the function by columns, apply the function by element, etc. By default, `vmap` uses the first axis in the array. In the 2D, the function is applied row by row."
   ]
  },
  {
   "cell_type": "code",
   "execution_count": 35,
   "id": "068aa466",
   "metadata": {},
   "outputs": [
    {
     "data": {
      "text/plain": [
       "DeviceArray([3., 3., 3., 3., 3.], dtype=float32)"
      ]
     },
     "execution_count": 35,
     "metadata": {},
     "output_type": "execute_result"
    }
   ],
   "source": [
    "# Sums the matrix A by rows\n",
    "vmap(jnp.sum)(A)"
   ]
  },
  {
   "cell_type": "markdown",
   "id": "9e247aa5",
   "metadata": {},
   "source": [
    "To apply the batched function by columns, we specify the input axes to be 1."
   ]
  },
  {
   "cell_type": "code",
   "execution_count": 36,
   "id": "e0f0d3bb",
   "metadata": {},
   "outputs": [
    {
     "data": {
      "text/plain": [
       "DeviceArray([5., 5., 5.], dtype=float32)"
      ]
     },
     "execution_count": 36,
     "metadata": {},
     "output_type": "execute_result"
    }
   ],
   "source": [
    "# Sums the matrix A by columns\n",
    "vmap(jnp.sum, in_axes=1)(A)\n",
    "#             ========="
   ]
  },
  {
   "cell_type": "markdown",
   "id": "5196e8de",
   "metadata": {},
   "source": [
    "The `pmap` transformation works similarly to `vmap`, but it vectorizes across multiple devices. Because it is unlikely that you and I have multiple GPUs at home, we can't demonstrate that here. However, `pmap` interface is identical to `vmap` in case you have an opportunity to test it! JAX will add collective communication primitives to ensure devices can share data."
   ]
  },
  {
   "cell_type": "code",
   "execution_count": 37,
   "id": "67145722",
   "metadata": {},
   "outputs": [
    {
     "name": "stdout",
     "output_type": "stream",
     "text": [
      "Number of available devices: 1\n",
      " - gpu:0\n",
      "\n",
      "Error: compiling computation that requires 5 logical devices, but only 1 XLA devices are available (num_replicas=5, num_partitions=1)\n"
     ]
    }
   ],
   "source": [
    "from jax import devices\n",
    "\n",
    "# Retrieve a list of JAX devices\n",
    "devs = devices()\n",
    "\n",
    "# Prints devices\n",
    "print(f\"Number of available devices: {len(devs)}\")\n",
    "for dev in devs:\n",
    "    print(f\" - {dev}\")\n",
    "\n",
    "# Attempt to use pmap with a single GPU produces an error\n",
    "try:\n",
    "    pmap(jnp.sum)(A)\n",
    "except ValueError as error:\n",
    "    print(f\"\\nError: {error}\")"
   ]
  },
  {
   "cell_type": "markdown",
   "id": "bf1bf9ae",
   "metadata": {},
   "source": [
    "<hr />\n",
    "\n",
    "## Random Numbers\n",
    "\n",
    "Random numbers is the only part of JAX that differs from the Numpy API. Numpy RNG engine is stateful, making it incompatible with JAX requirement of pure functions. All the functions needed to work with random numbers can be found in the [`random`](https://jax.readthedocs.io/en/latest/jax.random.html) namespace under `jax`."
   ]
  },
  {
   "cell_type": "code",
   "execution_count": 38,
   "id": "bd6fe6f8",
   "metadata": {},
   "outputs": [],
   "source": [
    "from jax import random"
   ]
  },
  {
   "cell_type": "markdown",
   "id": "b98376e4",
   "metadata": {},
   "source": [
    "To use the RNG functions, we must create a key starting with a seed and pass the key around."
   ]
  },
  {
   "cell_type": "code",
   "execution_count": 39,
   "id": "c01a8d19",
   "metadata": {},
   "outputs": [
    {
     "data": {
      "text/plain": [
       "DeviceArray([0, 0], dtype=uint32)"
      ]
     },
     "execution_count": 39,
     "metadata": {},
     "output_type": "execute_result"
    }
   ],
   "source": [
    "# Pseudo random number generator with a starting seed\n",
    "key = random.PRNGKey(0)\n",
    "key"
   ]
  },
  {
   "cell_type": "code",
   "execution_count": 40,
   "id": "944fda3d",
   "metadata": {},
   "outputs": [
    {
     "data": {
      "text/plain": [
       "(DeviceArray([[ 1.8160863 , -0.75488514],\n",
       "              [ 0.33988908, -0.53483534]], dtype=float32),\n",
       " DeviceArray([0, 0], dtype=uint32))"
      ]
     },
     "execution_count": 40,
     "metadata": {},
     "output_type": "execute_result"
    }
   ],
   "source": [
    "X = random.normal(key, shape=(2, 2))\n",
    "X, key"
   ]
  },
  {
   "cell_type": "markdown",
   "id": "29edaeba",
   "metadata": {},
   "source": [
    "Notice how the key was **not** modified when we used it, if we call the `normal` function with the same key we will get the same results."
   ]
  },
  {
   "cell_type": "code",
   "execution_count": 41,
   "id": "0150a71f",
   "metadata": {},
   "outputs": [],
   "source": [
    "# The results are the same, that's bad!\n",
    "assert np.allclose(X, random.normal(key, shape=(2, 2)))"
   ]
  },
  {
   "cell_type": "markdown",
   "id": "eb88d644",
   "metadata": {},
   "source": [
    "In order for this to work, we need to \"split\" the key in half every time."
   ]
  },
  {
   "cell_type": "code",
   "execution_count": 42,
   "id": "2c573844",
   "metadata": {},
   "outputs": [
    {
     "name": "stdout",
     "output_type": "stream",
     "text": [
      "key      = [2384771982 3928867769]\n",
      "subkey_1 = [2718843009 1272950319]\n",
      "subkey_2 = [1278412471 2182328957]\n"
     ]
    }
   ],
   "source": [
    "# Create two new subkeys by splitting two times\n",
    "key, subkey_1 = random.split(key)\n",
    "key, subkey_2 = random.split(key)\n",
    "\n",
    "# Notice how the original key is now different\n",
    "print(f\"key      = {key}\")\n",
    "print(f\"subkey_1 = {subkey_1}\")\n",
    "print(f\"subkey_2 = {subkey_2}\")"
   ]
  },
  {
   "cell_type": "markdown",
   "id": "e6b6e4b4",
   "metadata": {},
   "source": [
    "See how splitting makes the keys different from each other? If we use it different subkeys in random methods, we should get different results!"
   ]
  },
  {
   "cell_type": "code",
   "execution_count": 43,
   "id": "0af1de9c",
   "metadata": {},
   "outputs": [
    {
     "data": {
      "text/plain": [
       "(DeviceArray([[0.87241435, 0.44302094],\n",
       "              [0.27708054, 0.786595  ]], dtype=float32),\n",
       " DeviceArray([[0.47366   , 0.78604746],\n",
       "              [0.88060236, 0.3833393 ]], dtype=float32))"
      ]
     },
     "execution_count": 43,
     "metadata": {},
     "output_type": "execute_result"
    }
   ],
   "source": [
    "X = random.uniform(subkey_1, shape=(2, 2))\n",
    "Y = random.uniform(subkey_2, shape=(2, 2))\n",
    "\n",
    "# Now we get different random values!\n",
    "X, Y"
   ]
  },
  {
   "cell_type": "markdown",
   "id": "bcc917a5",
   "metadata": {},
   "source": [
    "<hr />\n",
    "\n",
    "## Auto-differentiation\n",
    "\n",
    "It is possible to compute the gradient (*i.e.* the derivative) of python functions using JAX auto-diff transformations, [`grad`](https://jax.readthedocs.io/en/latest/_autosummary/jax.grad.html), [`jacfwd`](https://jax.readthedocs.io/en/latest/_autosummary/jax.jacfwd.html), [`jacrev`](https://jax.readthedocs.io/en/latest/_autosummary/jax.jacrev.html), [`hessian`](https://jax.readthedocs.io/en/latest/_autosummary/jax.hessian.html), and the more general [`jvp`](https://jax.readthedocs.io/en/latest/_autosummary/jax.jvp.html) and [`vjp`](https://jax.readthedocs.io/en/latest/_autosummary/jax.vjp.html)."
   ]
  },
  {
   "cell_type": "code",
   "execution_count": 44,
   "id": "b0ff0565",
   "metadata": {},
   "outputs": [],
   "source": [
    "from jax import grad, value_and_grad, jacfwd, jacrev, hessian, jvp, vjp"
   ]
  },
  {
   "cell_type": "markdown",
   "id": "a1429e09",
   "metadata": {},
   "source": [
    "Let's start with the simple case, compute the derivative of the our `sigmoid` function. Deriving this function manually we arrive at:\n",
    "\n",
    "$$\n",
    "\\frac{d\\sigma(x)}{dx} = \\sigma(x) (1 - \\sigma(x))\n",
    "$$"
   ]
  },
  {
   "cell_type": "code",
   "execution_count": 45,
   "id": "d0d8b64a",
   "metadata": {},
   "outputs": [],
   "source": [
    "sigmoid_prime = grad(sigmoid_jax)\n",
    "#               ====\n",
    "\n",
    "def sigmoid_prime_np(x):\n",
    "    \"\"\"Manually written sigmoid prime in Numpy.\"\"\"\n",
    "    s = sigmoid_np(x)\n",
    "    return s * (1 - s)"
   ]
  },
  {
   "cell_type": "markdown",
   "id": "f9e3df39",
   "metadata": {},
   "source": [
    "We have implemented the derivative manually using regular Numpy so we can compare later."
   ]
  },
  {
   "cell_type": "code",
   "execution_count": 46,
   "id": "1ce7fee8",
   "metadata": {},
   "outputs": [
    {
     "data": {
      "text/plain": [
       "[<matplotlib.lines.Line2D at 0x7f0b18219720>]"
      ]
     },
     "execution_count": 46,
     "metadata": {},
     "output_type": "execute_result"
    },
    {
     "data": {
      "image/png": "[encoded data removed]",
      "text/plain": [
       "<Figure size 432x288 with 1 Axes>"
      ]
     },
     "metadata": {
      "needs_background": "light"
     },
     "output_type": "display_data"
    }
   ],
   "source": [
    "plt.plot(x, vmap(sigmoid_prime)(x))"
   ]
  },
  {
   "cell_type": "markdown",
   "id": "1e3868eb",
   "metadata": {},
   "source": [
    "And this graph is exactly what we expect of $\\sigma'(x)$. It also agrees with Numpy:"
   ]
  },
  {
   "cell_type": "code",
   "execution_count": 47,
   "id": "e717e77b",
   "metadata": {},
   "outputs": [],
   "source": [
    "assert np.allclose(sigmoid_prime_np(x), vmap(sigmoid_prime)(x))"
   ]
  },
  {
   "cell_type": "markdown",
   "id": "4d2f34e3",
   "metadata": {},
   "source": [
    "As can be seen in the JAXPR of `sigmoid_prime`, there are a lot more instructions. Closely following the instructions, it can be verified that the JAXPR below is computing the expression:\n",
    "\n",
    "$$\n",
    "    \\frac{e^{-x}} { (1 + e^{-x})^2}\n",
    "$$\n",
    "\n",
    "Which is exactly the derivative of the sigmoid function (click [here](https://towardsdatascience.com/derivative-of-the-sigmoid-function-536880cf918e) for a step-by-step demonstration)."
   ]
  },
  {
   "cell_type": "code",
   "execution_count": 48,
   "id": "06c0fd69",
   "metadata": {},
   "outputs": [
    {
     "data": {
      "text/plain": [
       "{ lambda ; a:f32[]. let\n",
       "    b:f32[] = neg a\n",
       "    c:f32[] = exp b\n",
       "    d:f32[] = add c 1.0\n",
       "    _:f32[] = div 1.0 d\n",
       "    e:f32[] = integer_pow[y=-2] d\n",
       "    f:f32[] = mul 1.0 e\n",
       "    g:f32[] = mul f 1.0\n",
       "    h:f32[] = neg g\n",
       "    i:f32[] = mul h c\n",
       "    j:f32[] = neg i\n",
       "  in (j,) }"
      ]
     },
     "execution_count": 48,
     "metadata": {},
     "output_type": "execute_result"
    }
   ],
   "source": [
    "make_jaxpr(sigmoid_prime)(1.0)"
   ]
  },
  {
   "cell_type": "markdown",
   "id": "e77b900a",
   "metadata": {},
   "source": [
    "Be mindful that in order for the `grad` and related transformations to work, you must work with the JAX Numpy API (*i.e.*, regular Numpy won't work here).\n",
    "\n",
    "Autodiff does not seem like much, especially since the sigmoid derivative is widely known, however, having these transformations makes the code more expressive and easier to reason about. Besides, it removes the burden of manually derivating functions that may or may not be trivial to calculate.\n",
    "\n",
    "If the function has several parameters, you can choose which variable to take the derivative with respect to, or potentially all of them at the same time. Consider the function $f(x, y) = 2 x^2 + xy - 1$. Its gradient is given by:\n",
    "\n",
    "$$\n",
    "    \\nabla f = (4x + y, x)\n",
    "$$\n",
    "\n",
    "Thus, $\\nabla f(1, 2) = (6, 1)$. Let's verify that with code:"
   ]
  },
  {
   "cell_type": "code",
   "execution_count": 49,
   "id": "d9154e38",
   "metadata": {},
   "outputs": [
    {
     "data": {
      "text/plain": [
       "(DeviceArray(6., dtype=float32),\n",
       " DeviceArray(1., dtype=float32, weak_type=True))"
      ]
     },
     "execution_count": 49,
     "metadata": {},
     "output_type": "execute_result"
    }
   ],
   "source": [
    "def f(x, y):\n",
    "    return 2. * x ** 2. + x * y - 1.\n",
    "\n",
    "f_prime = grad(f, argnums=(0, 1))\n",
    "#                 ~~~~~~~~~~~~~~\n",
    "#           Derivate w.r.t both x and y.\n",
    "\n",
    "# This function now returns two numbers:\n",
    "# - Derivative w.r.t. x; and\n",
    "# - Derivative w.r.t. y.\n",
    "jit(f_prime)(1.0, 2.0)"
   ]
  },
  {
   "cell_type": "markdown",
   "id": "fe5f848b",
   "metadata": {},
   "source": [
    "JAX transformations are composable, meaning you can use `jit` and `grad` (and others, for that matter) in any order."
   ]
  },
  {
   "cell_type": "code",
   "execution_count": 50,
   "id": "f89067d9",
   "metadata": {},
   "outputs": [],
   "source": [
    "sigmoid_prime = jit(vmap(grad(sigmoid_jax)))\n",
    "sigmoid_prime_prime = jit(vmap(grad(sigmoid_prime)))\n",
    "# You can grad(grad(grad(...))) as many times you want!"
   ]
  },
  {
   "cell_type": "markdown",
   "id": "19fa89b1",
   "metadata": {},
   "source": [
    "Sometimes we wish to obtain both the value of the funtion and its gradient at the same time. For that we use `value_and_grad`."
   ]
  },
  {
   "cell_type": "code",
   "execution_count": 51,
   "id": "f2c5979f",
   "metadata": {},
   "outputs": [],
   "source": [
    "f_value_and_grad = value_and_grad(f, argnums=(0, 1))(1.0, 2.0)\n",
    "\n",
    "assert f_value_and_grad == (3., (6., 1.))\n",
    "#                           |    |   |\n",
    "#                           |    |   `-> df/dy evaluated at (1, 2)\n",
    "#                           |    `-> df/dx evaluated at (1, 2)\n",
    "#                           `-> f evaluated at (1, 2)"
   ]
  },
  {
   "cell_type": "markdown",
   "id": "bc2ca524",
   "metadata": {},
   "source": [
    "What about the other transformations? The examples above is simple because we are working with scalar-valued functions. Now suppose we are working with a function $f : \\mathbb{R}^n \\to \\mathbb{R}^m$. There are $n$ inputs and $m$ outputs such that and we need to specify which function should be derived and with respect to which variable. Suppose $f$ is given by:\n",
    "\n",
    "$$\n",
    "    \\vec{y} = f(\\vec{x}) = (f_1, \\dots, f_m)\n",
    "$$\n",
    "\n",
    "where $\\vec{x} = (x_1, \\dots, x_n)$ and $f_i : \\mathbb{R}^n \\to \\mathbb{R}, \\,\\forall i = 1, \\dots, m$. In mathematics, there exists the [Jacobian matrix](https://www.wikiwand.com/en/Jacobian_matrix_and_determinant) which is defined as:\n",
    "\n",
    "$$\n",
    "    J_f = \\begin{bmatrix}\n",
    "        \\frac{\\partial f_1}{\\partial x_1} & \\ldots & \\frac{\\partial f_1}{\\partial x_n} \\\\\n",
    "        \\vdots & \\ddots & \\vdots \\\\\n",
    "        \\frac{\\partial f_m}{\\partial x_1} & \\ldots & \\frac{\\partial f_m}{\\partial x_n}\n",
    "    \\end{bmatrix}\n",
    "$$\n",
    "\n",
    "> **Example**. Let $g(x_0, x_1) = (2 x_0 + x_1, x_0 {x_1}^2 - 3)$. Computing the Jacobian matrix of $g$ evaluated at a point $a = (1, 3)$ we get:\n",
    "> \n",
    "> $$\n",
    "    J_g(x_0, x_1) = \\begin{bmatrix}\n",
    "        2 & 1 \\\\\n",
    "        {x_1}^2 & 2 x_0 x_1\n",
    "    \\end{bmatrix} \\bigg\\rvert_{(1, 3)}\n",
    "    = \\begin{bmatrix}\n",
    "        2 & 1 \\\\\n",
    "        9 & 6\n",
    "    \\end{bmatrix}\n",
    "$$\n",
    "\n",
    "There are two methods for computing the Jacobian: `jacfwd` and `jacrev`, short for Jacobian forward mode, and Jacobian reverse mode, respectively. They should always return the same result."
   ]
  },
  {
   "cell_type": "code",
   "execution_count": 52,
   "id": "aacdf1d3",
   "metadata": {},
   "outputs": [
    {
     "name": "stdout",
     "output_type": "stream",
     "text": [
      "Jacobian of g evaluted at [1. 3.]:\n",
      "[[2. 1.]\n",
      " [9. 6.]]\n"
     ]
    }
   ],
   "source": [
    "def g(x: jnp.array):\n",
    "    \"\"\"Function with multiple inputs and multiple outputs.\"\"\"\n",
    "    return jnp.array((2 * x[0] + x[1], x[0] * x[1] ** 2 - 3))\n",
    "#                     ===============  ====================\n",
    "#                      First output       Second output\n",
    "\n",
    "# Compute the jacobian both modes\n",
    "# ---------------------------------------------------------\n",
    "a     = jnp.array([1., 3.])\n",
    "J_fwd = jacfwd(g)(a)\n",
    "#       ======\n",
    "J_rev = jacrev(g)(a)\n",
    "#       ======\n",
    "\n",
    "# Print the result\n",
    "# ---------------------------------------------------------\n",
    "print(f\"Jacobian of g evaluted at {a}:\\n{J_fwd}\")"
   ]
  },
  {
   "cell_type": "markdown",
   "id": "27714df2",
   "metadata": {},
   "source": [
    "The computed result agrees with our manual computations."
   ]
  },
  {
   "cell_type": "code",
   "execution_count": 53,
   "id": "aa828903",
   "metadata": {},
   "outputs": [],
   "source": [
    "assert np.allclose(J_fwd, J_rev)"
   ]
  },
  {
   "cell_type": "markdown",
   "id": "f0d43bae",
   "metadata": {},
   "source": [
    "And the result from both modes match indeed! But why do we need two methods that compute the same thing? It turns out that `jacfwd` computes the Jacobian matrix column-by-column. If the number of outputs if very large, *i.e.* $m \\gg n$, then the matrix will be tall and thin such that computing the full-jacobian will be very inefficient. The other alternative is to use `jacrev` which computes the same matrix but row-by-row this time. As a rule of thumb, given a function $f : \\mathbb{R}^n \\to \\mathbb{R}^m$, use:\n",
    "\n",
    "- `jacfwd` if $m \\gg n$; or\n",
    "- `jacrev` if $n \\gg m$.\n",
    "\n",
    "In machine learning, workloads usually involve computing the gradient of some loss function that takes as input the activations of the last layer and all the weights and biases in the network and returns a single scalar. Therefore, the funtion has potentially millions of inputs and a single output, making the reverse mode more appropriate most of the time.\n",
    "\n",
    "We can also compute the [Hessian matrix](https://www.wikiwand.com/en/Hessian_matrix) using the `hessian` transformation. Let $f : \\mathbb{R}^n \\to \\mathbb{R}$, the Hessian matrix of $f$ is defined as:\n",
    "\n",
    "$$\n",
    "    H_f = \\begin{bmatrix}\n",
    "        \\frac{\\partial^2 f}{\\partial x_1^2} & \\frac{\\partial^2 f}{\\partial x_1 x_2} & \\dots & \\frac{\\partial^2 f}{\\partial x_1 x_n} \\\\\n",
    "        \\frac{\\partial^2 f}{\\partial x_2 x_1} & \\frac{\\partial^2 f}{\\partial x_2^2} & \\dots & \\frac{\\partial^2 f}{\\partial x_2 x_n} \\\\\n",
    "        \\vdots & \\vdots & \\ddots & \\vdots \\\\\n",
    "        \\frac{\\partial^2 f}{\\partial x_n x_1} & \\frac{\\partial^2 f}{\\partial x_n x_2} & \\dots & \\frac{\\partial^2 f}{\\partial x_n^2} \\\\\n",
    "    \\end{bmatrix}\n",
    "$$\n",
    "\n",
    "> **Example**. Let $g(x_0, x_1) = {x_0}^2 \\sin(x_1)$. Computing the Hessian matrix of $g$ evalutated at $a = (1, \\pi/2)$ we obtain:\n",
    ">\n",
    "> $$\n",
    "    H_g(1, \\pi/2) = \\begin{bmatrix}\n",
    "        2\\sin(x_1) & 2 x_0 \\cos(x_1) \\\\\n",
    "        2 x_0 \\cos(x_1) & -{x_0}^2 \\sin(x_1)\n",
    "    \\end{bmatrix} \\bigg\\rvert_{a = (1, \\pi/2)}\n",
    "    = \\begin{bmatrix}\n",
    "        2 & 0 \\\\\n",
    "        0 & -1\n",
    "    \\end{bmatrix}\n",
    "$$"
   ]
  },
  {
   "cell_type": "code",
   "execution_count": 54,
   "id": "2ac2d0dd",
   "metadata": {},
   "outputs": [
    {
     "name": "stdout",
     "output_type": "stream",
     "text": [
      "Hessian matrix evaluated at [1.        1.5707964]:\n",
      "[[ 2.000000e+00 -8.742278e-08]\n",
      " [-8.742278e-08 -1.000000e+00]]\n"
     ]
    }
   ],
   "source": [
    "def g(x: jnp.array):\n",
    "    return x[0] ** 2 * jnp.sin(x[1])\n",
    "\n",
    "a = jnp.array([1.0, jnp.pi / 2.])\n",
    "H = hessian(g)(a)\n",
    "#   =======\n",
    "\n",
    "print(f\"Hessian matrix evaluated at {a}:\\n{H}\")"
   ]
  },
  {
   "cell_type": "markdown",
   "id": "ced7a74d",
   "metadata": {},
   "source": [
    "Again, the `hessian` transformation agrees with our manual computation, up to floating point accuracy."
   ]
  },
  {
   "cell_type": "code",
   "execution_count": 55,
   "id": "c2258880",
   "metadata": {},
   "outputs": [],
   "source": [
    "assert np.allclose(H, [[2.0, 0.0], [0.0, -1.0]], atol=1e-6)"
   ]
  },
  {
   "cell_type": "markdown",
   "id": "84a577fd",
   "metadata": {},
   "source": [
    "### How does auto-diff work?\n",
    "\n",
    "Autodiff is neither numeric differentiation nor symbolic differentiation. It is an algorithm that computes the gradient of the function at the same time it evaluates the function. There are two modes of operation: forward and reverse. The interesting thing is that the backpropagation algorithm that we all are familiar with is just a special case of reverse mode auto-diff. Talking about all the details of the technique is beyong the scope of this course. The interested reader can read the following the following paper:\n",
    "\n",
    "- Baydin, A. G., Pearlmutter, B. A., Radul, A. A., & Siskind, J. M. (2018). Automatic differentiation in machine learning: a survey. *Journal of Marchine Learning Research*, 18, 1-43. ([PDF](https://www.jmlr.org/papers/volume18/17-468/17-468.pdf)) "
   ]
  },
  {
   "cell_type": "markdown",
   "id": "490e9edf",
   "metadata": {},
   "source": [
    "<hr />\n",
    "\n",
    "<center style=\"font-size: 14pt; font-weight: bold;\">\n",
    "    That's all folks!\n",
    "</center>"
   ]
  }
 ],
 "metadata": {
  "kernelspec": {
   "display_name": "Python 3 (ipykernel)",
   "language": "python",
   "name": "python3"
  },
  "language_info": {
   "codemirror_mode": {
    "name": "ipython",
    "version": 3
   },
   "file_extension": ".py",
   "mimetype": "text/x-python",
   "name": "python",
   "nbconvert_exporter": "python",
   "pygments_lexer": "ipython3",
   "version": "3.10.4"
  }
 },
 "nbformat": 4,
 "nbformat_minor": 5
}
